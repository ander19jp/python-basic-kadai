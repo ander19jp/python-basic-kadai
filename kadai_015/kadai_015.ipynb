{
  "cells": [
    {
      "cell_type": "code",
      "execution_count": 5,
      "metadata": {
        "colab": {
          "base_uri": "https://localhost:8080/"
        },
        "id": "xyVh-mJTy5xm",
        "outputId": "f7844aac-b9a2-42ee-840d-5b4a5a3978d0"
      },
      "outputs": [
        {
          "name": "stdout",
          "output_type": "stream",
          "text": [
            "名前: 侍太郎\n",
            "年齢: 36\n"
          ]
        }
      ],
      "source": [
        "class Human:\n",
        "\n",
        "  def __init__(self,name,age):\n",
        "    self.name = name\n",
        "    self.age = age\n",
        "\n",
        "\n",
        "  def printinfo(self):\n",
        "    print(\"名前:\",self.name)\n",
        "    print(\"年齢:\",self.age)\n",
        "\n",
        "\n",
        "human = Human(\"侍太郎\",36)\n",
        "\n",
        "human.printinfo()\n"
      ]
    }
  ],
  "metadata": {
    "colab": {
      "provenance": [],
      "toc_visible": true
    },
    "kernelspec": {
      "display_name": "Python 3",
      "name": "python3"
    },
    "language_info": {
      "name": "python"
    }
  },
  "nbformat": 4,
  "nbformat_minor": 0
}
