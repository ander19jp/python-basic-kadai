{
  "cells": [
    {
      "cell_type": "markdown",
      "metadata": {
        "id": "lLOrcdTIFGeM"
      },
      "source": [
        "# 新しいセクション"
      ]
    },
    {
      "cell_type": "code",
      "execution_count": 45,
      "metadata": {
        "colab": {
          "base_uri": "https://localhost:8080/"
        },
        "id": "ASj-brH59lq2",
        "outputId": "ef12642a-aa95-4492-b3f6-284cc8aa4c70"
      },
      "outputs": [
        {
          "name": "stdout",
          "output_type": "stream",
          "text": [
            "121.0円\n"
          ]
        }
      ],
      "source": [
        "def add_two_arguments(price: float,tax_rate: float) -> float:\n",
        "  tax_amount = price * tax_rate / 100\n",
        "  total = price + tax_amount\n",
        "\n",
        "  return total\n",
        "\n",
        "print(f\"{add_two_arguments(110,10)}円\")\n"
      ]
    }
  ],
  "metadata": {
    "colab": {
      "provenance": [],
      "toc_visible": true
    },
    "kernelspec": {
      "display_name": "Python 3",
      "name": "python3"
    },
    "language_info": {
      "name": "python"
    }
  },
  "nbformat": 4,
  "nbformat_minor": 0
}
