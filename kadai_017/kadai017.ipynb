{
  "cells": [
    {
      "cell_type": "code",
      "execution_count": 5,
      "metadata": {
        "colab": {
          "base_uri": "https://localhost:8080/"
        },
        "id": "DruAPkJa9YTg",
        "outputId": "5c45e121-fbb0-4705-b10f-0cbf02983bfc"
      },
      "outputs": [
        {
          "name": "stdout",
          "output_type": "stream",
          "text": [
            "たかしさんは大人です。\n",
            "さくらさんは大人ではありません。\n",
            "けんじさんは大人です。\n",
            "ゆいさんは大人ではありません。\n"
          ]
        }
      ],
      "source": [
        "class Human:\n",
        "  def __init__(self,name,age):\n",
        "\n",
        "    self.name = name\n",
        "    self.age = age\n",
        "\n",
        "  def check_adult(self):\n",
        "      if self.age >= 20:\n",
        "        print(f\"{self.name}さんは大人です。\")\n",
        "\n",
        "      else:\n",
        "        print(f\"{self.name}さんは大人ではありません。\")\n",
        "\n",
        "people = [\n",
        "\n",
        "         Human(\"たかし\",25),\n",
        "         Human(\"さくら\",18),\n",
        "         Human(\"けんじ\",30),\n",
        "         Human(\"ゆい\",15)\n",
        "]\n",
        "\n",
        "for person in people:\n",
        "  person.check_adult()\n",
        "\n",
        "\n"
      ]
    }
  ],
  "metadata": {
    "colab": {
      "provenance": [],
      "toc_visible": true
    },
    "kernelspec": {
      "display_name": "Python 3",
      "name": "python3"
    },
    "language_info": {
      "name": "python"
    }
  },
  "nbformat": 4,
  "nbformat_minor": 0
}
