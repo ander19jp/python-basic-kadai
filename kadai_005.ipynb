{
  "nbformat": 4,
  "nbformat_minor": 0,
  "metadata": {
    "colab": {
      "provenance": []
    },
    "kernelspec": {
      "name": "python3",
      "display_name": "Python 3"
    },
    "language_info": {
      "name": "python"
    }
  },
  "cells": [
    {
      "cell_type": "code",
      "execution_count": 4,
      "metadata": {
        "id": "DgiSEFhD09_W",
        "colab": {
          "base_uri": "https://localhost:8080/"
        },
        "outputId": "9ceef320-e8a4-4660-871d-1c30283442bd"
      },
      "outputs": [
        {
          "output_type": "stream",
          "name": "stdout",
          "text": [
            "7.5\n",
            "侍太郎\n"
          ]
        }
      ],
      "source": [
        "number1 = 5\n",
        "number2 = 2.5\n",
        "print(number1 + number2)\n",
        "\n",
        "\n",
        "last_name = \"侍\"\n",
        "first_name = \"太郎\"\n",
        "print(last_name + first_name)\n"
      ]
    },
    {
      "cell_type": "code",
      "source": [
        "top = 10\n",
        "bottom = 20\n",
        "height = 5\n",
        "\n",
        "area = (top + bottom) * height / 2\n",
        "print(f\"{area}cm2\")\n"
      ],
      "metadata": {
        "colab": {
          "base_uri": "https://localhost:8080/"
        },
        "id": "McYbIRzZopbW",
        "outputId": "6d52ff32-7c22-48cb-e2a4-99b73cb6912f"
      },
      "execution_count": 7,
      "outputs": [
        {
          "output_type": "stream",
          "name": "stdout",
          "text": [
            "75.0cm2\n"
          ]
        }
      ]
    },
    {
      "cell_type": "code",
      "source": [
        "last_name = \"侍\"\n",
        "first_name = \"太郎\"\n",
        "sister_name = \"花子\"\n",
        "\n",
        "# 3つの変数を文字列内に埋め込んで表示\n",
        "print(f\"私の名前は{last_name}{first_name}です。妹の名前は{sister_name}です。\")"
      ],
      "metadata": {
        "colab": {
          "base_uri": "https://localhost:8080/"
        },
        "id": "4hvSpd2Ck9W6",
        "outputId": "773d0af1-fbf9-46b9-8475-bc44dc5b4663"
      },
      "execution_count": 5,
      "outputs": [
        {
          "output_type": "stream",
          "name": "stdout",
          "text": [
            "私の名前は侍太郎です。妹の名前は花子です。\n"
          ]
        }
      ]
    },
    {
      "cell_type": "code",
      "source": [
        "user_name = \"侍太郎\"\n",
        "print(user_name)\n",
        "\n",
        "user_name = \"侍花子\"\n",
        "print(user_name)"
      ],
      "metadata": {
        "colab": {
          "base_uri": "https://localhost:8080/"
        },
        "id": "TVMDWX_FixBY",
        "outputId": "add9742e-67af-4392-a1aa-397fc7f6138a"
      },
      "execution_count": 3,
      "outputs": [
        {
          "output_type": "stream",
          "name": "stdout",
          "text": [
            "侍太郎\n",
            "侍花子\n"
          ]
        }
      ]
    },
    {
      "cell_type": "code",
      "source": [
        "print(1+2)"
      ],
      "metadata": {
        "colab": {
          "base_uri": "https://localhost:8080/"
        },
        "id": "HBJeQLnz1I5P",
        "outputId": "c3c64c52-aae3-4e5b-bf5c-e46892bd1eef"
      },
      "execution_count": null,
      "outputs": [
        {
          "output_type": "stream",
          "name": "stdout",
          "text": [
            "3\n"
          ]
        }
      ]
    },
    {
      "cell_type": "code",
      "source": [
        "age = 18\n",
        "\n",
        "if age < 20:\n",
        "\n",
        "    # 未成年の場合\n",
        "    print(\"ジュースで乾杯\")\n",
        "else:\n",
        "\n",
        "    print(\"お酒で乾杯\")\n"
      ],
      "metadata": {
        "id": "B0rH4t161l3F",
        "colab": {
          "base_uri": "https://localhost:8080/"
        },
        "outputId": "67249ece-9667-46d1-cfed-384dda8ba9bf"
      },
      "execution_count": null,
      "outputs": [
        {
          "output_type": "stream",
          "name": "stdout",
          "text": [
            "ジュースで乾杯\n"
          ]
        }
      ]
    },
    {
      "cell_type": "code",
      "source": [
        "print(45 + 18)\n",
        "print(30 - 12)\n",
        "print(15 * 6)\n",
        "print(30 / 3)\n",
        "print(45 % 8)\n",
        "print(type(30 / 3))"
      ],
      "metadata": {
        "colab": {
          "base_uri": "https://localhost:8080/"
        },
        "id": "L1Mz00ewwG5l",
        "outputId": "db8f1e5e-2540-4d9d-8e35-d8b294bf0b86"
      },
      "execution_count": null,
      "outputs": [
        {
          "output_type": "stream",
          "name": "stdout",
          "text": [
            "63\n",
            "18\n",
            "90\n",
            "10.0\n",
            "5\n",
            "<class 'float'>\n"
          ]
        }
      ]
    },
    {
      "cell_type": "code",
      "source": [
        "print(45 + 1.8)\n",
        "print(3 - 1.2)\n",
        "print(15 * 0.6)\n",
        "print(3 / 0.3)\n",
        "print(45 % 0.8)\n"
      ],
      "metadata": {
        "colab": {
          "base_uri": "https://localhost:8080/"
        },
        "id": "UxvxCDs-xQvU",
        "outputId": "7c03d7a5-6355-4b7d-a47f-edabf180f958"
      },
      "execution_count": null,
      "outputs": [
        {
          "output_type": "stream",
          "name": "stdout",
          "text": [
            "46.8\n",
            "1.8\n",
            "9.0\n",
            "10.0\n",
            "0.1999999999999975\n"
          ]
        }
      ]
    },
    {
      "cell_type": "code",
      "source": [
        "print(\"今日の天気は\" + \"晴れ\")\n",
        "print(\"今日の天気は\" \"曇り\")"
      ],
      "metadata": {
        "colab": {
          "base_uri": "https://localhost:8080/"
        },
        "id": "cyer0NQ4xius",
        "outputId": "362d68ec-c28c-4cfe-8c65-7de0ea0769c7"
      },
      "execution_count": null,
      "outputs": [
        {
          "output_type": "stream",
          "name": "stdout",
          "text": [
            "今日の天気は晴れ\n",
            "今日の天気は曇り\n"
          ]
        }
      ]
    },
    {
      "cell_type": "code",
      "source": [
        "print(\"降水確率\" + str(50) + \"%\")"
      ],
      "metadata": {
        "colab": {
          "base_uri": "https://localhost:8080/"
        },
        "id": "Ou0594twy0kJ",
        "outputId": "c29bf7cc-4345-4316-df40-6cee329bd17b"
      },
      "execution_count": null,
      "outputs": [
        {
          "output_type": "stream",
          "name": "stdout",
          "text": [
            "降水確率50%\n"
          ]
        }
      ]
    }
  ]
}