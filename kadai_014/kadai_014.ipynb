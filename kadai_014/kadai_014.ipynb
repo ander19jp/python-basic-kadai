{
  "nbformat": 4,
  "nbformat_minor": 0,
  "metadata": {
    "colab": {
      "provenance": [],
      "toc_visible": true
    },
    "kernelspec": {
      "name": "python3",
      "display_name": "Python 3"
    },
    "language_info": {
      "name": "python"
    }
  },
  "cells": [
    {
      "cell_type": "code",
      "source": [
        "price1 = 100\n",
        "price2 = 200\n",
        "\n",
        "def total():\n",
        "    return price1 + price2\n",
        "\n",
        "def final_total(tax_rate):\n",
        "  return total() * tax_rate\n",
        "\n",
        "tax = 1.1\n",
        "\n",
        "print (final_total(tax))"
      ],
      "metadata": {
        "colab": {
          "base_uri": "https://localhost:8080/"
        },
        "id": "5WPqNulLshoz",
        "outputId": "d09ae7d5-0c17-4c25-d80e-b0b1a87bd923"
      },
      "execution_count": 7,
      "outputs": [
        {
          "output_type": "stream",
          "name": "stdout",
          "text": [
            "330.0\n"
          ]
        }
      ]
    },
    {
      "cell_type": "code",
      "source": [
        "user_name = \"侍花子\"\n",
        "\n",
        "def show_user_name():\n",
        "\n",
        "  user_name = \"侍太郎\"\n",
        "\n",
        "  print(user_name)\n",
        "\n",
        "show_user_name()\n",
        "\n",
        "print(user_name)"
      ],
      "metadata": {
        "colab": {
          "base_uri": "https://localhost:8080/"
        },
        "id": "eY759Gn_qWvD",
        "outputId": "8651e969-cc38-4887-863c-3c1e3baa69ab"
      },
      "execution_count": 2,
      "outputs": [
        {
          "output_type": "stream",
          "name": "stdout",
          "text": [
            "侍花子\n",
            "侍花子\n"
          ]
        }
      ]
    },
    {
      "cell_type": "code",
      "source": [
        "def show_user_name():\n",
        "\n",
        "  user_name = \"侍太郎\"\n",
        "\n",
        "  print(user_name)\n",
        "\n",
        "show_user_name()"
      ],
      "metadata": {
        "colab": {
          "base_uri": "https://localhost:8080/"
        },
        "id": "bvqv531Foh5q",
        "outputId": "c332167e-f3f4-47a7-866f-47cc6c5e63a8"
      },
      "execution_count": 1,
      "outputs": [
        {
          "output_type": "stream",
          "name": "stdout",
          "text": [
            "侍太郎\n"
          ]
        }
      ]
    },
    {
      "cell_type": "markdown",
      "source": [
        "# 新しいセクション"
      ],
      "metadata": {
        "id": "lLOrcdTIFGeM"
      }
    },
    {
      "cell_type": "code",
      "source": [
        "def add_two_arguments(price: float,tax_rate: float) -> float:\n",
        "  tax_amount = price * tax_rate / 100\n",
        "  total = price + tax_amount\n",
        "\n",
        "  return total\n",
        "\n",
        "print(f\"{add_two_arguments(110,10)}円\")\n"
      ],
      "metadata": {
        "colab": {
          "base_uri": "https://localhost:8080/"
        },
        "id": "ASj-brH59lq2",
        "outputId": "ef12642a-aa95-4492-b3f6-284cc8aa4c70"
      },
      "execution_count": null,
      "outputs": [
        {
          "output_type": "stream",
          "name": "stdout",
          "text": [
            "121.0円\n"
          ]
        }
      ]
    },
    {
      "cell_type": "code",
      "source": [
        "def greet_user(user_name):\n",
        "\n",
        "  print(f\"こんにちは {user_name} さん\")\n",
        "\n",
        "greet_user(\"ゲスト\")"
      ],
      "metadata": {
        "colab": {
          "base_uri": "https://localhost:8080/"
        },
        "id": "KUmu8WYz6ice",
        "outputId": "bace1f7c-5084-42b3-be53-1a4d9ba24b4a"
      },
      "execution_count": null,
      "outputs": [
        {
          "output_type": "stream",
          "name": "stdout",
          "text": [
            "こんにちは ゲスト さん\n"
          ]
        }
      ]
    },
    {
      "cell_type": "code",
      "source": [
        "def add_two_arguments(price,shipping_fee):\n",
        "  total = price + shipping_fee\n",
        "\n",
        "  print(f\"{total}円\")\n",
        "\n",
        "add_two_arguments(1200,500)"
      ],
      "metadata": {
        "colab": {
          "base_uri": "https://localhost:8080/"
        },
        "id": "IOnDBMRs5Icm",
        "outputId": "85564b03-a7a2-48ee-9cb9-71ec7c0fea28"
      },
      "execution_count": null,
      "outputs": [
        {
          "output_type": "stream",
          "name": "stdout",
          "text": [
            "1700円\n"
          ]
        }
      ]
    },
    {
      "cell_type": "code",
      "source": [
        "\n",
        "# 与えられた引数$priceに送料を加算し、その値を出力する関数を定義する\n",
        "def calculate_total(price):\n",
        "  total = price + 500\n",
        "\n",
        "  print(f\"{total}円\")\n",
        "\n",
        "# 関数を呼び出し、引数として購入金額を渡す\n",
        "calculate_total(1200)\n",
        "\n"
      ],
      "metadata": {
        "colab": {
          "base_uri": "https://localhost:8080/"
        },
        "id": "rGYZL83K4Zd0",
        "outputId": "5f83b5ed-82f4-4f40-a3ca-05936265d3df"
      },
      "execution_count": null,
      "outputs": [
        {
          "output_type": "stream",
          "name": "stdout",
          "text": [
            "1700円\n"
          ]
        }
      ]
    },
    {
      "cell_type": "code",
      "source": [
        "def say_good_morning():\n",
        "    print(\"おはようございます！\")\n",
        "    print(\"昨日はよく眠れましたか？\")\n",
        "    print(\"今日も一日頑張りましょう！\")\n",
        "\n",
        "\n",
        "def say_good_evening():\n",
        "    print(\"こんばんは!\")\n",
        "    print(\"今日も一日お疲れさまでした。\")\n",
        "\n",
        "\n",
        "say_good_morning()\n",
        "\n",
        "say_good_evening()\n",
        "\n",
        "\n"
      ],
      "metadata": {
        "colab": {
          "base_uri": "https://localhost:8080/"
        },
        "id": "yEfywOhO1DuL",
        "outputId": "bf8693ad-18b4-4c03-f0a0-748007a59aed"
      },
      "execution_count": null,
      "outputs": [
        {
          "output_type": "stream",
          "name": "stdout",
          "text": [
            "おはようございます！\n",
            "昨日はよく眠れましたか？\n",
            "今日も一日頑張りましょう！\n",
            "こんばんは!\n",
            "今日も一日お疲れさまでした。\n"
          ]
        }
      ]
    },
    {
      "cell_type": "code",
      "source": [
        "array = [\"水\",\"金\",\"地\",\"火\",\"木\",\"土\",\"天\",\"海\",\"冥\"]\n",
        "\n",
        "for i in range(len(array)):\n",
        "  print(f\"{i+1} {array[i]}\")\n",
        "\n",
        "\n",
        "index = 0\n",
        "line_number = 10\n",
        "\n",
        "while index < len(array):\n",
        "  value = array[index]\n",
        "  print(f\"{line_number} {array[index]}\")\n",
        "  index += 1\n",
        "  line_number += 1"
      ],
      "metadata": {
        "colab": {
          "base_uri": "https://localhost:8080/"
        },
        "id": "aWuEzMPHtGIZ",
        "outputId": "eb81727e-78c8-4acf-90c8-38682d570e52"
      },
      "execution_count": null,
      "outputs": [
        {
          "output_type": "stream",
          "name": "stdout",
          "text": [
            "1 水\n",
            "2 金\n",
            "3 地\n",
            "4 火\n",
            "5 木\n",
            "6 土\n",
            "7 天\n",
            "8 海\n",
            "9 冥\n",
            "10 水\n",
            "11 金\n",
            "12 地\n",
            "13 火\n",
            "14 木\n",
            "15 土\n",
            "16 天\n",
            "17 海\n",
            "18 冥\n"
          ]
        }
      ]
    },
    {
      "cell_type": "code",
      "source": [
        "\n",
        "score = {\n",
        "    \"国語\": 80,\n",
        "    \"数学\": 55,\n",
        "    \"理科\": 70,\n",
        "    \"社会\": 85,\n",
        "    \"英語\": 60\n",
        "\n",
        "}\n",
        "\n",
        "print(\"合格した科目は以下のとおりです。\")\n",
        "\n",
        "\n",
        "for key, value in score.items():\n",
        "\n",
        "  if (value < 70):\n",
        "    continue\n",
        "\n",
        "  print(f\"{key} : {value}点\")\n"
      ],
      "metadata": {
        "colab": {
          "base_uri": "https://localhost:8080/"
        },
        "id": "daS6ey2aq7XV",
        "outputId": "851aa617-e51f-40f1-b5fa-94e5e1f4a1c4"
      },
      "execution_count": null,
      "outputs": [
        {
          "output_type": "stream",
          "name": "stdout",
          "text": [
            "合格した科目は以下のとおりです。\n",
            "国語 : 80点\n",
            "理科 : 70点\n",
            "社会 : 85点\n"
          ]
        }
      ]
    },
    {
      "cell_type": "code",
      "source": [
        "user_names = [\"侍太郎\", \"侍一郎\", \"侍二郎\", \"侍三郎\", \"侍四郎\"]\n",
        "\n",
        "target = \"侍二郎\"\n",
        "\n",
        "for user_name in user_names:\n",
        "    print(user_name)\n",
        "\n",
        "    if(user_name == target):\n",
        "      print(f\"{target}さんが見つかったので、繰り返し処理を強制終了します。\")\n",
        "      break"
      ],
      "metadata": {
        "colab": {
          "base_uri": "https://localhost:8080/"
        },
        "id": "zqDCcpbOp26k",
        "outputId": "dd9d98cf-e59b-40c1-8098-9be461a8b58a"
      },
      "execution_count": null,
      "outputs": [
        {
          "output_type": "stream",
          "name": "stdout",
          "text": [
            "侍太郎\n",
            "侍一郎\n",
            "侍二郎\n",
            "侍二郎さんが見つかったので、繰り返し処理を強制終了します。\n"
          ]
        }
      ]
    },
    {
      "cell_type": "code",
      "source": [
        "user_names = [\"侍太郎\", \"侍一郎\", \"侍二郎\", \"侍三郎\", \"侍四郎\"]\n",
        "\n",
        "for index,value in enumerate(user_names):\n",
        "  print(f\"{index} : {value}\")"
      ],
      "metadata": {
        "colab": {
          "base_uri": "https://localhost:8080/"
        },
        "id": "5XRyA6RbovK3",
        "outputId": "48601c69-4967-4866-ad27-d35129b62b4e"
      },
      "execution_count": null,
      "outputs": [
        {
          "output_type": "stream",
          "name": "stdout",
          "text": [
            "0 : 侍太郎\n",
            "1 : 侍一郎\n",
            "2 : 侍二郎\n",
            "3 : 侍三郎\n",
            "4 : 侍四郎\n"
          ]
        }
      ]
    },
    {
      "cell_type": "code",
      "source": [
        "personal_data = {\"name\":\"侍太郎\",\"age\":\"36\",\"gender\":\"男性\"}\n",
        "\n",
        "for key,value in personal_data.items():\n",
        "  print(f\"{key}は{value}です。\")\n",
        "\n",
        "for value in personal_data.values():\n",
        "  print(value)"
      ],
      "metadata": {
        "colab": {
          "base_uri": "https://localhost:8080/"
        },
        "id": "r2viwTYAnEYM",
        "outputId": "00f22842-c1a6-419f-9b4c-bcd1912dc2ac"
      },
      "execution_count": null,
      "outputs": [
        {
          "output_type": "stream",
          "name": "stdout",
          "text": [
            "nameは侍太郎です。\n",
            "ageは36です。\n",
            "genderは男性です。\n",
            "侍太郎\n",
            "36\n",
            "男性\n"
          ]
        }
      ]
    },
    {
      "cell_type": "code",
      "source": [
        "import random\n",
        "\n",
        "\n",
        "sum = 0\n",
        "\n",
        "\n",
        "while sum < 20:\n",
        "\n",
        "  num = random.randint(1,10)\n",
        "\n",
        "  print(f\"{num}がでました。\")\n",
        "\n",
        "\n",
        "  if num % 2 == 0:\n",
        "    print(\"偶然なので加算しません。\")\n",
        "    continue\n",
        "\n",
        "  sum = sum + num\n",
        "  print(f\"現在の合計は{sum}です。\")"
      ],
      "metadata": {
        "colab": {
          "base_uri": "https://localhost:8080/"
        },
        "id": "oUM3E_c9jL0A",
        "outputId": "b86967a3-5913-4dc6-f6b2-e841ac8cae91"
      },
      "execution_count": null,
      "outputs": [
        {
          "output_type": "stream",
          "name": "stdout",
          "text": [
            "5がでました。\n",
            "現在の合計は5です。\n",
            "6がでました。\n",
            "偶然なので加算しません。\n",
            "6がでました。\n",
            "偶然なので加算しません。\n",
            "4がでました。\n",
            "偶然なので加算しません。\n",
            "10がでました。\n",
            "偶然なので加算しません。\n",
            "1がでました。\n",
            "現在の合計は6です。\n",
            "1がでました。\n",
            "現在の合計は7です。\n",
            "8がでました。\n",
            "偶然なので加算しません。\n",
            "2がでました。\n",
            "偶然なので加算しません。\n",
            "5がでました。\n",
            "現在の合計は12です。\n",
            "2がでました。\n",
            "偶然なので加算しません。\n",
            "5がでました。\n",
            "現在の合計は17です。\n",
            "10がでました。\n",
            "偶然なので加算しません。\n",
            "10がでました。\n",
            "偶然なので加算しません。\n",
            "3がでました。\n",
            "現在の合計は20です。\n"
          ]
        }
      ]
    },
    {
      "cell_type": "code",
      "source": [
        "import random\n",
        "\n",
        "num = random.randint(0,4)\n",
        "\n",
        "\n",
        "print(f\"最初の値は{num}です。\")\n",
        "\n",
        "\n",
        "while num != 0:\n",
        "\n",
        "  num = random.randint(0,4)\n",
        "\n",
        "  if i == 5:\n",
        "    print(\"5回目なので繰り返し処理を強制終了します。\")\n",
        "    break\n",
        "\n",
        "  print(f\"現在地の値は{num}です。\")\n",
        "\n",
        "  i = i + 1"
      ],
      "metadata": {
        "colab": {
          "base_uri": "https://localhost:8080/"
        },
        "id": "FWbUjixhhId4",
        "outputId": "f1e72cfe-a7f9-416c-bec8-0a39291c50fb"
      },
      "execution_count": null,
      "outputs": [
        {
          "output_type": "stream",
          "name": "stdout",
          "text": [
            "最初の値は3です。\n",
            "現在地の値は3です。\n",
            "現在地の値は1です。\n",
            "現在地の値は2です。\n",
            "現在地の値は0です。\n"
          ]
        }
      ]
    },
    {
      "cell_type": "code",
      "source": [
        "for i in range(1,11):\n",
        "  print(i)"
      ],
      "metadata": {
        "colab": {
          "base_uri": "https://localhost:8080/"
        },
        "id": "6jmvrU7Cc7_L",
        "outputId": "285722b5-dcde-43a1-92e8-5bd04cbf1b0c"
      },
      "execution_count": null,
      "outputs": [
        {
          "output_type": "stream",
          "name": "stdout",
          "text": [
            "1\n",
            "2\n",
            "3\n",
            "4\n",
            "5\n",
            "6\n",
            "7\n",
            "8\n",
            "9\n",
            "10\n"
          ]
        }
      ]
    },
    {
      "cell_type": "code",
      "source": [
        "import random\n",
        "\n",
        "for i in range (1,11):\n",
        "  print(i)\n",
        "\n",
        "  num = random.randint(1,20)\n",
        "\n",
        "  print(f\"{i}回目の結果は{num}です。\")\n",
        "\n",
        "  if num ==20:\n",
        "    print(\"20が出たので繰り返し処理を強制終了します。\")\n",
        "\n",
        "    break\n",
        "\n",
        "\n"
      ],
      "metadata": {
        "colab": {
          "base_uri": "https://localhost:8080/"
        },
        "id": "dOoD1T3aeIRE",
        "outputId": "cc57182f-dc3c-4410-eddf-d1953a77a3f2"
      },
      "execution_count": null,
      "outputs": [
        {
          "output_type": "stream",
          "name": "stdout",
          "text": [
            "1\n",
            "1回目の結果は2です。\n",
            "2\n",
            "2回目の結果は15です。\n",
            "3\n",
            "3回目の結果は8です。\n",
            "4\n",
            "4回目の結果は20です。\n",
            "20が出たので繰り返し処理を強制終了します。\n"
          ]
        }
      ]
    },
    {
      "cell_type": "code",
      "source": [
        "for i in range(1,11):\n",
        "\n",
        "    if i % 2 == 1:\n",
        "        continue\n",
        "\n",
        "    print(i)"
      ],
      "metadata": {
        "colab": {
          "base_uri": "https://localhost:8080/"
        },
        "id": "S-IEaXdDff0K",
        "outputId": "1285af18-02a6-4dfa-dc8b-a66e5b0f14ef"
      },
      "execution_count": null,
      "outputs": [
        {
          "output_type": "stream",
          "name": "stdout",
          "text": [
            "2\n",
            "4\n",
            "6\n",
            "8\n",
            "10\n"
          ]
        }
      ]
    },
    {
      "cell_type": "code",
      "source": [],
      "metadata": {
        "id": "xNll5IAChGLO"
      },
      "execution_count": null,
      "outputs": []
    },
    {
      "cell_type": "code",
      "source": [
        "array = [\"月曜日は晴れです\",\"火曜日は雨です\",\"水曜日は晴れです\",\"木曜日は晴れです\",\"金曜日は曇りです\",\"土曜日は曇りのち雨です\",\"日曜日は雷雨です\"]\n",
        "\n",
        "print(array[2])\n",
        "\n",
        "dictionary = {\"mon\":\"晴れ\",\"tue\":\"雨\",\"wed\":\"晴れ\",\"thu\":\"晴れ\",\"fri\":\"曇り\",\"sat\":\"曇りのち雨\",\"sun\":\"雷雨\"}\n",
        "\n",
        "print(dictionary[\"wed\"])"
      ],
      "metadata": {
        "colab": {
          "base_uri": "https://localhost:8080/"
        },
        "id": "yrEMmAgZFHmG",
        "outputId": "3922c87e-bcd4-43ed-e0ec-4facfad443a7"
      },
      "execution_count": null,
      "outputs": [
        {
          "output_type": "stream",
          "name": "stdout",
          "text": [
            "水曜日は晴れです\n",
            "晴れ\n"
          ]
        }
      ]
    }
  ]
}